{
 "cells": [
  {
   "cell_type": "markdown",
   "metadata": {},
   "source": [
    "## Function Definitions"
   ]
  },
  {
   "cell_type": "code",
   "execution_count": 2,
   "metadata": {},
   "outputs": [],
   "source": [
    "import pandas as pd\n",
    "import numpy as np\n",
    "import matplotlib.pyplot as plt\n",
    "plt.style.use('fivethirtyeight')\n",
    "%matplotlib inline\n",
    "import seaborn as sns"
   ]
  },
  {
   "cell_type": "code",
   "execution_count": 3,
   "metadata": {},
   "outputs": [],
   "source": [
    "projectData = pd.read_csv(\"testDataAnalysis.csv\")"
   ]
  },
  {
   "cell_type": "code",
   "execution_count": 4,
   "metadata": {},
   "outputs": [
    {
     "data": {
      "text/html": [
       "<div>\n",
       "<style scoped>\n",
       "    .dataframe tbody tr th:only-of-type {\n",
       "        vertical-align: middle;\n",
       "    }\n",
       "\n",
       "    .dataframe tbody tr th {\n",
       "        vertical-align: top;\n",
       "    }\n",
       "\n",
       "    .dataframe thead th {\n",
       "        text-align: right;\n",
       "    }\n",
       "</style>\n",
       "<table border=\"1\" class=\"dataframe\">\n",
       "  <thead>\n",
       "    <tr style=\"text-align: right;\">\n",
       "      <th></th>\n",
       "      <th>player_id</th>\n",
       "      <th>player_name.x</th>\n",
       "      <th>SALARY</th>\n",
       "      <th>fantasy_points</th>\n",
       "      <th>Pos</th>\n",
       "      <th>Age</th>\n",
       "      <th>Tm</th>\n",
       "      <th>G</th>\n",
       "      <th>GS</th>\n",
       "      <th>MP</th>\n",
       "      <th>...</th>\n",
       "      <th>DRB</th>\n",
       "      <th>TRB</th>\n",
       "      <th>AST</th>\n",
       "      <th>STL</th>\n",
       "      <th>BLK</th>\n",
       "      <th>TOV</th>\n",
       "      <th>PF</th>\n",
       "      <th>PTS</th>\n",
       "      <th>salaryPerPoints</th>\n",
       "      <th>predResponse</th>\n",
       "    </tr>\n",
       "  </thead>\n",
       "  <tbody>\n",
       "    <tr>\n",
       "      <th>0</th>\n",
       "      <td>adamsst01</td>\n",
       "      <td>Steven Adams</td>\n",
       "      <td>3140517.0</td>\n",
       "      <td>1800.6</td>\n",
       "      <td>C</td>\n",
       "      <td>23</td>\n",
       "      <td>OKC</td>\n",
       "      <td>80</td>\n",
       "      <td>80</td>\n",
       "      <td>2389</td>\n",
       "      <td>...</td>\n",
       "      <td>332</td>\n",
       "      <td>613</td>\n",
       "      <td>86</td>\n",
       "      <td>89</td>\n",
       "      <td>78</td>\n",
       "      <td>146</td>\n",
       "      <td>195</td>\n",
       "      <td>905</td>\n",
       "      <td>1744.150283</td>\n",
       "      <td>5638.232313</td>\n",
       "    </tr>\n",
       "    <tr>\n",
       "      <th>1</th>\n",
       "      <td>aldrila01</td>\n",
       "      <td>LaMarcus Aldridge</td>\n",
       "      <td>20575005.0</td>\n",
       "      <td>2029.1</td>\n",
       "      <td>PF</td>\n",
       "      <td>31</td>\n",
       "      <td>SAS</td>\n",
       "      <td>72</td>\n",
       "      <td>72</td>\n",
       "      <td>2335</td>\n",
       "      <td>...</td>\n",
       "      <td>351</td>\n",
       "      <td>523</td>\n",
       "      <td>139</td>\n",
       "      <td>46</td>\n",
       "      <td>88</td>\n",
       "      <td>98</td>\n",
       "      <td>158</td>\n",
       "      <td>1243</td>\n",
       "      <td>10139.965995</td>\n",
       "      <td>9581.349370</td>\n",
       "    </tr>\n",
       "    <tr>\n",
       "      <th>2</th>\n",
       "      <td>aminual01</td>\n",
       "      <td>Al-Farouq Aminu</td>\n",
       "      <td>7680965.0</td>\n",
       "      <td>1239.7</td>\n",
       "      <td>PF</td>\n",
       "      <td>26</td>\n",
       "      <td>POR</td>\n",
       "      <td>61</td>\n",
       "      <td>25</td>\n",
       "      <td>1773</td>\n",
       "      <td>...</td>\n",
       "      <td>374</td>\n",
       "      <td>451</td>\n",
       "      <td>99</td>\n",
       "      <td>60</td>\n",
       "      <td>44</td>\n",
       "      <td>94</td>\n",
       "      <td>102</td>\n",
       "      <td>532</td>\n",
       "      <td>6195.825603</td>\n",
       "      <td>10914.458213</td>\n",
       "    </tr>\n",
       "    <tr>\n",
       "      <th>3</th>\n",
       "      <td>anderky01</td>\n",
       "      <td>Kyle Anderson</td>\n",
       "      <td>1192080.0</td>\n",
       "      <td>702.1</td>\n",
       "      <td>SF</td>\n",
       "      <td>23</td>\n",
       "      <td>SAS</td>\n",
       "      <td>72</td>\n",
       "      <td>14</td>\n",
       "      <td>1020</td>\n",
       "      <td>...</td>\n",
       "      <td>175</td>\n",
       "      <td>208</td>\n",
       "      <td>91</td>\n",
       "      <td>51</td>\n",
       "      <td>26</td>\n",
       "      <td>39</td>\n",
       "      <td>63</td>\n",
       "      <td>246</td>\n",
       "      <td>1697.877795</td>\n",
       "      <td>2037.547889</td>\n",
       "    </tr>\n",
       "    <tr>\n",
       "      <th>4</th>\n",
       "      <td>anderry01</td>\n",
       "      <td>Ryan Anderson</td>\n",
       "      <td>18735364.0</td>\n",
       "      <td>1383.0</td>\n",
       "      <td>PF</td>\n",
       "      <td>28</td>\n",
       "      <td>HOU</td>\n",
       "      <td>72</td>\n",
       "      <td>72</td>\n",
       "      <td>2116</td>\n",
       "      <td>...</td>\n",
       "      <td>218</td>\n",
       "      <td>330</td>\n",
       "      <td>68</td>\n",
       "      <td>31</td>\n",
       "      <td>14</td>\n",
       "      <td>55</td>\n",
       "      <td>142</td>\n",
       "      <td>979</td>\n",
       "      <td>13546.900940</td>\n",
       "      <td>9327.724856</td>\n",
       "    </tr>\n",
       "  </tbody>\n",
       "</table>\n",
       "<p>5 rows × 34 columns</p>\n",
       "</div>"
      ],
      "text/plain": [
       "   player_id      player_name.x      SALARY  fantasy_points Pos  Age   Tm   G  \\\n",
       "0  adamsst01       Steven Adams   3140517.0          1800.6   C   23  OKC  80   \n",
       "1  aldrila01  LaMarcus Aldridge  20575005.0          2029.1  PF   31  SAS  72   \n",
       "2  aminual01    Al-Farouq Aminu   7680965.0          1239.7  PF   26  POR  61   \n",
       "3  anderky01      Kyle Anderson   1192080.0           702.1  SF   23  SAS  72   \n",
       "4  anderry01      Ryan Anderson  18735364.0          1383.0  PF   28  HOU  72   \n",
       "\n",
       "   GS    MP  ...  DRB  TRB  AST  STL  BLK  TOV   PF   PTS  salaryPerPoints  \\\n",
       "0  80  2389  ...  332  613   86   89   78  146  195   905      1744.150283   \n",
       "1  72  2335  ...  351  523  139   46   88   98  158  1243     10139.965995   \n",
       "2  25  1773  ...  374  451   99   60   44   94  102   532      6195.825603   \n",
       "3  14  1020  ...  175  208   91   51   26   39   63   246      1697.877795   \n",
       "4  72  2116  ...  218  330   68   31   14   55  142   979     13546.900940   \n",
       "\n",
       "   predResponse  \n",
       "0   5638.232313  \n",
       "1   9581.349370  \n",
       "2  10914.458213  \n",
       "3   2037.547889  \n",
       "4   9327.724856  \n",
       "\n",
       "[5 rows x 34 columns]"
      ]
     },
     "execution_count": 4,
     "metadata": {},
     "output_type": "execute_result"
    }
   ],
   "source": [
    "projectData.head()"
   ]
  },
  {
   "cell_type": "code",
   "execution_count": 5,
   "metadata": {},
   "outputs": [],
   "source": [
    "def isPlayerPosition(data, pos):\n",
    "    position = None\n",
    "    if data == pos:\n",
    "        return 1\n",
    "    else:\n",
    "        return 0"
   ]
  },
  {
   "cell_type": "code",
   "execution_count": 6,
   "metadata": {},
   "outputs": [],
   "source": [
    "def computeIdealLineup(data, rosterSize, numPG, numSG, numSF, numPF, numC, salary):\n",
    "    # Greedy Selection, choose top players where criteria is set, then fill in surrounding cast\n",
    "    data = data.sort_values(\"predResponse\", axis=0, ascending=False, inplace=False, kind='quicksort', na_position='last')\n",
    "    data = data.reset_index(drop=True)\n",
    "    pg, sg, sf, pf, c = 0,0,0,0,0\n",
    "    availset = [\"PG\", \"SG\", \"SF\", \"PF\", \"C\"]\n",
    "    \n",
    "    playernames = []\n",
    "    positions = []\n",
    "    points = []\n",
    "    salaries = []\n",
    "    totalfantasypoints = 0\n",
    "    \n",
    "    # Build with restrictions\n",
    "    for i in range(len(data)):\n",
    "        if data.loc[i, \"SALARY\"] < salary and data.loc[i, \"Pos\"] in availset:\n",
    "            # Add player to set\n",
    "            playernames.append(data.loc[i, \"player_name.x\"])\n",
    "            positions.append(data.loc[i, \"Pos\"])\n",
    "            points.append(data.loc[i, \"predResponse\"])\n",
    "            salaries.append(data.loc[i, \"SALARY\"])\n",
    "            pg += isPlayerPosition(data.loc[i, \"Pos\"], \"PG\")\n",
    "            sg += isPlayerPosition(data.loc[i, \"Pos\"], \"SG\")\n",
    "            sf += isPlayerPosition(data.loc[i, \"Pos\"], \"SF\")\n",
    "            pf += isPlayerPosition(data.loc[i, \"Pos\"], \"PF\")\n",
    "            c  += isPlayerPosition(data.loc[i, \"Pos\"], \"C\")\n",
    "            salary -= data.loc[i, \"SALARY\"]\n",
    "        if pg >= numPG and \"PG\" in availset:\n",
    "                availset.remove(\"PG\")\n",
    "        if sg >= numSG and \"SG\" in availset:\n",
    "                availset.remove(\"SG\")\n",
    "        if sf >= numSF and \"SF\" in availset:\n",
    "                availset.remove(\"SF\")\n",
    "        if pf >= numPF and \"PF\" in availset:\n",
    "                availset.remove(\"PF\")\n",
    "        if c >= numC and \"C\" in availset:\n",
    "                availset.remove(\"C\")\n",
    "        if len(availset) == 0:\n",
    "            break\n",
    "    \n",
    "    numremaining = rosterSize - numPG - numSG - numSF - numPF - numC\n",
    "    \n",
    "    # Fill Rest of Roster\n",
    "    for i in range(len(data)):\n",
    "        if data.loc[i, \"SALARY\"] < salary and numremaining > 0 and data.loc[i, \"player_name.x\"] not in playernames:\n",
    "            # Add player to set\n",
    "            playernames.append(data.loc[i, \"player_name.x\"])\n",
    "            positions.append(data.loc[i, \"Pos\"])\n",
    "            points.append(data.loc[i, \"predResponse\"])\n",
    "            salaries.append(data.loc[i, \"SALARY\"])\n",
    "            salary -= data.loc[i, \"SALARY\"]\n",
    "            numremaining -= 1\n",
    "        elif numremaining == 0:\n",
    "            break\n",
    "    \n",
    "    \n",
    "    d = {'Name': playernames, 'position': positions, 'points': points, 'salary': salaries}\n",
    "    df = pd.DataFrame(data=d)\n",
    "    \n",
    "    return df"
   ]
  },
  {
   "cell_type": "code",
   "execution_count": 9,
   "metadata": {},
   "outputs": [],
   "source": [
    "finalLineup = computeIdealLineup(projectData, 15, 2, 2, 2, 2, 2, 109140000)"
   ]
  },
  {
   "cell_type": "markdown",
   "metadata": {},
   "source": [
    "## Selection"
   ]
  },
  {
   "cell_type": "code",
   "execution_count": 10,
   "metadata": {},
   "outputs": [
    {
     "data": {
      "text/html": [
       "<div>\n",
       "<style scoped>\n",
       "    .dataframe tbody tr th:only-of-type {\n",
       "        vertical-align: middle;\n",
       "    }\n",
       "\n",
       "    .dataframe tbody tr th {\n",
       "        vertical-align: top;\n",
       "    }\n",
       "\n",
       "    .dataframe thead th {\n",
       "        text-align: right;\n",
       "    }\n",
       "</style>\n",
       "<table border=\"1\" class=\"dataframe\">\n",
       "  <thead>\n",
       "    <tr style=\"text-align: right;\">\n",
       "      <th></th>\n",
       "      <th>Name</th>\n",
       "      <th>position</th>\n",
       "      <th>points</th>\n",
       "      <th>salary</th>\n",
       "    </tr>\n",
       "  </thead>\n",
       "  <tbody>\n",
       "    <tr>\n",
       "      <th>0</th>\n",
       "      <td>Jerami Grant</td>\n",
       "      <td>PF</td>\n",
       "      <td>91443.323195</td>\n",
       "      <td>980431.0</td>\n",
       "    </tr>\n",
       "    <tr>\n",
       "      <th>1</th>\n",
       "      <td>Cameron Payne</td>\n",
       "      <td>PG</td>\n",
       "      <td>70952.139279</td>\n",
       "      <td>2112480.0</td>\n",
       "    </tr>\n",
       "    <tr>\n",
       "      <th>2</th>\n",
       "      <td>Demetrius Jackson</td>\n",
       "      <td>PG</td>\n",
       "      <td>66514.885565</td>\n",
       "      <td>1450000.0</td>\n",
       "    </tr>\n",
       "    <tr>\n",
       "      <th>3</th>\n",
       "      <td>Andrew Nicholson</td>\n",
       "      <td>PF</td>\n",
       "      <td>47730.719994</td>\n",
       "      <td>6088993.0</td>\n",
       "    </tr>\n",
       "    <tr>\n",
       "      <th>4</th>\n",
       "      <td>Udonis Haslem</td>\n",
       "      <td>C</td>\n",
       "      <td>37593.271580</td>\n",
       "      <td>4000000.0</td>\n",
       "    </tr>\n",
       "    <tr>\n",
       "      <th>5</th>\n",
       "      <td>Kyle Korver</td>\n",
       "      <td>SG</td>\n",
       "      <td>33378.861776</td>\n",
       "      <td>5239437.0</td>\n",
       "    </tr>\n",
       "    <tr>\n",
       "      <th>6</th>\n",
       "      <td>Lou Williams</td>\n",
       "      <td>SG</td>\n",
       "      <td>29274.734671</td>\n",
       "      <td>7000000.0</td>\n",
       "    </tr>\n",
       "    <tr>\n",
       "      <th>7</th>\n",
       "      <td>Doug McDermott</td>\n",
       "      <td>SF</td>\n",
       "      <td>25508.515396</td>\n",
       "      <td>2483040.0</td>\n",
       "    </tr>\n",
       "    <tr>\n",
       "      <th>8</th>\n",
       "      <td>Rudy Gay</td>\n",
       "      <td>SF</td>\n",
       "      <td>25364.740475</td>\n",
       "      <td>13333333.0</td>\n",
       "    </tr>\n",
       "    <tr>\n",
       "      <th>9</th>\n",
       "      <td>Mason Plumlee</td>\n",
       "      <td>C</td>\n",
       "      <td>23172.840089</td>\n",
       "      <td>2328530.0</td>\n",
       "    </tr>\n",
       "    <tr>\n",
       "      <th>10</th>\n",
       "      <td>Spencer Hawes</td>\n",
       "      <td>PF</td>\n",
       "      <td>37621.668436</td>\n",
       "      <td>6348759.0</td>\n",
       "    </tr>\n",
       "    <tr>\n",
       "      <th>11</th>\n",
       "      <td>Langston Galloway</td>\n",
       "      <td>PG</td>\n",
       "      <td>33358.553946</td>\n",
       "      <td>5200000.0</td>\n",
       "    </tr>\n",
       "    <tr>\n",
       "      <th>12</th>\n",
       "      <td>Mike Scott</td>\n",
       "      <td>PF</td>\n",
       "      <td>30825.096838</td>\n",
       "      <td>3333334.0</td>\n",
       "    </tr>\n",
       "    <tr>\n",
       "      <th>13</th>\n",
       "      <td>Serge Ibaka</td>\n",
       "      <td>PF</td>\n",
       "      <td>28091.640747</td>\n",
       "      <td>12250000.0</td>\n",
       "    </tr>\n",
       "    <tr>\n",
       "      <th>14</th>\n",
       "      <td>Malik Beasley</td>\n",
       "      <td>SG</td>\n",
       "      <td>26849.286833</td>\n",
       "      <td>1627320.0</td>\n",
       "    </tr>\n",
       "  </tbody>\n",
       "</table>\n",
       "</div>"
      ],
      "text/plain": [
       "                 Name position        points      salary\n",
       "0        Jerami Grant       PF  91443.323195    980431.0\n",
       "1       Cameron Payne       PG  70952.139279   2112480.0\n",
       "2   Demetrius Jackson       PG  66514.885565   1450000.0\n",
       "3    Andrew Nicholson       PF  47730.719994   6088993.0\n",
       "4       Udonis Haslem        C  37593.271580   4000000.0\n",
       "5         Kyle Korver       SG  33378.861776   5239437.0\n",
       "6        Lou Williams       SG  29274.734671   7000000.0\n",
       "7      Doug McDermott       SF  25508.515396   2483040.0\n",
       "8            Rudy Gay       SF  25364.740475  13333333.0\n",
       "9       Mason Plumlee        C  23172.840089   2328530.0\n",
       "10      Spencer Hawes       PF  37621.668436   6348759.0\n",
       "11  Langston Galloway       PG  33358.553946   5200000.0\n",
       "12         Mike Scott       PF  30825.096838   3333334.0\n",
       "13        Serge Ibaka       PF  28091.640747  12250000.0\n",
       "14      Malik Beasley       SG  26849.286833   1627320.0"
      ]
     },
     "execution_count": 10,
     "metadata": {},
     "output_type": "execute_result"
    }
   ],
   "source": [
    "finalLineup"
   ]
  },
  {
   "cell_type": "code",
   "execution_count": 18,
   "metadata": {},
   "outputs": [
    {
     "data": {
      "text/plain": [
       "Text(0.5, 1.0, 'Average Points Per Position')"
      ]
     },
     "execution_count": 18,
     "metadata": {},
     "output_type": "execute_result"
    },
    {
     "data": {
      "image/png": "[encoded data removed]",
      "text/plain": [
       "<Figure size 432x288 with 1 Axes>"
      ]
     },
     "metadata": {
      "needs_background": "light"
     },
     "output_type": "display_data"
    }
   ],
   "source": [
    "sns.barplot(x=\"position\", y=\"points\", data=finalLineup)\n",
    "plt.title(\"Average Points Per Position\")"
   ]
  },
  {
   "cell_type": "code",
   "execution_count": 12,
   "metadata": {},
   "outputs": [
    {
     "data": {
      "text/plain": [
       "Text(0.5, 1.0, 'Salary Per Position')"
      ]
     },
     "execution_count": 12,
     "metadata": {},
     "output_type": "execute_result"
    },
    {
     "data": {
      "image/png": "[encoded data removed]",
      "text/plain": [
       "<Figure size 432x288 with 1 Axes>"
      ]
     },
     "metadata": {
      "needs_background": "light"
     },
     "output_type": "display_data"
    }
   ],
   "source": [
    "sns.barplot(x=\"position\", y=\"salary\", data=finalLineup)\n",
    "plt.title(\"Salary Per Position\")"
   ]
  },
  {
   "cell_type": "code",
   "execution_count": 13,
   "metadata": {},
   "outputs": [
    {
     "data": {
      "text/plain": [
       "(0, 40000000)"
      ]
     },
     "execution_count": 13,
     "metadata": {},
     "output_type": "execute_result"
    },
    {
     "data": {
      "image/png": "[encoded data removed]",
      "text/plain": [
       "<Figure size 432x288 with 1 Axes>"
      ]
     },
     "metadata": {
      "needs_background": "light"
     },
     "output_type": "display_data"
    }
   ],
   "source": [
    "# Total Data Spread\n",
    "sns.scatterplot(x=\"SALARY\", y=\"predResponse\", data=projectData)\n",
    "plt.title(\"Whole NBA\")\n",
    "plt.ylim(0, 100000)\n",
    "plt.xlim(0, 40000000)"
   ]
  },
  {
   "cell_type": "code",
   "execution_count": 14,
   "metadata": {},
   "outputs": [
    {
     "data": {
      "text/plain": [
       "(0, 40000000)"
      ]
     },
     "execution_count": 14,
     "metadata": {},
     "output_type": "execute_result"
    },
    {
     "data": {
      "image/png": "[encoded data removed]",
      "text/plain": [
       "<Figure size 432x288 with 1 Axes>"
      ]
     },
     "metadata": {
      "needs_background": "light"
     },
     "output_type": "display_data"
    }
   ],
   "source": [
    "# Our Selected Players\n",
    "sns.scatterplot(x=\"salary\", y=\"points\", data=finalLineup)\n",
    "plt.title(\"Our Selected Roster\")\n",
    "plt.ylim(0, 100000)\n",
    "plt.xlim(0, 40000000)"
   ]
  },
  {
   "cell_type": "markdown",
   "metadata": {},
   "source": [
    "## Point Generation"
   ]
  },
  {
   "cell_type": "code",
   "execution_count": 15,
   "metadata": {},
   "outputs": [
    {
     "name": "stdout",
     "output_type": "stream",
     "text": [
      "Total Points:  73775657.0\n"
     ]
    }
   ],
   "source": [
    "print(\"Total Points: \", sum(finalLineup[\"salary\"]))"
   ]
  },
  {
   "cell_type": "code",
   "execution_count": 16,
   "metadata": {},
   "outputs": [
    {
     "data": {
      "text/html": [
       "<div>\n",
       "<style scoped>\n",
       "    .dataframe tbody tr th:only-of-type {\n",
       "        vertical-align: middle;\n",
       "    }\n",
       "\n",
       "    .dataframe tbody tr th {\n",
       "        vertical-align: top;\n",
       "    }\n",
       "\n",
       "    .dataframe thead th {\n",
       "        text-align: right;\n",
       "    }\n",
       "</style>\n",
       "<table border=\"1\" class=\"dataframe\">\n",
       "  <thead>\n",
       "    <tr style=\"text-align: right;\">\n",
       "      <th></th>\n",
       "      <th>predResponse</th>\n",
       "      <th>salaryPerPoints</th>\n",
       "    </tr>\n",
       "    <tr>\n",
       "      <th>Tm</th>\n",
       "      <th></th>\n",
       "      <th></th>\n",
       "    </tr>\n",
       "  </thead>\n",
       "  <tbody>\n",
       "    <tr>\n",
       "      <th>ATL</th>\n",
       "      <td>111190.911029</td>\n",
       "      <td>82161.714628</td>\n",
       "    </tr>\n",
       "    <tr>\n",
       "      <th>BOS</th>\n",
       "      <td>141306.485322</td>\n",
       "      <td>128697.751812</td>\n",
       "    </tr>\n",
       "    <tr>\n",
       "      <th>BRK</th>\n",
       "      <td>75550.512810</td>\n",
       "      <td>105940.332333</td>\n",
       "    </tr>\n",
       "    <tr>\n",
       "      <th>CHI</th>\n",
       "      <td>135170.034316</td>\n",
       "      <td>68110.564707</td>\n",
       "    </tr>\n",
       "    <tr>\n",
       "      <th>CHO</th>\n",
       "      <td>79454.619744</td>\n",
       "      <td>59398.011801</td>\n",
       "    </tr>\n",
       "    <tr>\n",
       "      <th>CLE</th>\n",
       "      <td>75108.551060</td>\n",
       "      <td>56145.359769</td>\n",
       "    </tr>\n",
       "    <tr>\n",
       "      <th>DAL</th>\n",
       "      <td>42660.434652</td>\n",
       "      <td>38472.442693</td>\n",
       "    </tr>\n",
       "    <tr>\n",
       "      <th>DEN</th>\n",
       "      <td>94253.275057</td>\n",
       "      <td>44579.440924</td>\n",
       "    </tr>\n",
       "    <tr>\n",
       "      <th>DET</th>\n",
       "      <td>68522.255274</td>\n",
       "      <td>55679.758438</td>\n",
       "    </tr>\n",
       "    <tr>\n",
       "      <th>GSW</th>\n",
       "      <td>67673.919815</td>\n",
       "      <td>48551.328601</td>\n",
       "    </tr>\n",
       "    <tr>\n",
       "      <th>HOU</th>\n",
       "      <td>79875.516353</td>\n",
       "      <td>54002.662308</td>\n",
       "    </tr>\n",
       "    <tr>\n",
       "      <th>IND</th>\n",
       "      <td>43390.166414</td>\n",
       "      <td>33559.190579</td>\n",
       "    </tr>\n",
       "    <tr>\n",
       "      <th>LAC</th>\n",
       "      <td>31117.642960</td>\n",
       "      <td>37253.295163</td>\n",
       "    </tr>\n",
       "    <tr>\n",
       "      <th>LAL</th>\n",
       "      <td>56682.743974</td>\n",
       "      <td>64758.850506</td>\n",
       "    </tr>\n",
       "    <tr>\n",
       "      <th>MEM</th>\n",
       "      <td>77387.885427</td>\n",
       "      <td>88289.459179</td>\n",
       "    </tr>\n",
       "    <tr>\n",
       "      <th>MIA</th>\n",
       "      <td>93039.909569</td>\n",
       "      <td>70759.433724</td>\n",
       "    </tr>\n",
       "    <tr>\n",
       "      <th>MIL</th>\n",
       "      <td>90757.431023</td>\n",
       "      <td>98131.250075</td>\n",
       "    </tr>\n",
       "    <tr>\n",
       "      <th>MIN</th>\n",
       "      <td>48711.437948</td>\n",
       "      <td>25547.525693</td>\n",
       "    </tr>\n",
       "    <tr>\n",
       "      <th>NOP</th>\n",
       "      <td>71780.440901</td>\n",
       "      <td>66693.136373</td>\n",
       "    </tr>\n",
       "    <tr>\n",
       "      <th>NYK</th>\n",
       "      <td>60140.437404</td>\n",
       "      <td>54214.196601</td>\n",
       "    </tr>\n",
       "    <tr>\n",
       "      <th>OKC</th>\n",
       "      <td>143471.491740</td>\n",
       "      <td>106609.242731</td>\n",
       "    </tr>\n",
       "    <tr>\n",
       "      <th>ORL</th>\n",
       "      <td>83700.683551</td>\n",
       "      <td>84667.066166</td>\n",
       "    </tr>\n",
       "    <tr>\n",
       "      <th>PHI</th>\n",
       "      <td>146445.080357</td>\n",
       "      <td>55449.079100</td>\n",
       "    </tr>\n",
       "    <tr>\n",
       "      <th>PHO</th>\n",
       "      <td>51628.977101</td>\n",
       "      <td>56264.709744</td>\n",
       "    </tr>\n",
       "    <tr>\n",
       "      <th>POR</th>\n",
       "      <td>82747.232134</td>\n",
       "      <td>72013.263844</td>\n",
       "    </tr>\n",
       "    <tr>\n",
       "      <th>SAC</th>\n",
       "      <td>115510.483532</td>\n",
       "      <td>83963.114456</td>\n",
       "    </tr>\n",
       "    <tr>\n",
       "      <th>SAS</th>\n",
       "      <td>56987.739637</td>\n",
       "      <td>45594.524702</td>\n",
       "    </tr>\n",
       "    <tr>\n",
       "      <th>TOR</th>\n",
       "      <td>109377.189912</td>\n",
       "      <td>82272.228705</td>\n",
       "    </tr>\n",
       "    <tr>\n",
       "      <th>TOT</th>\n",
       "      <td>139917.839404</td>\n",
       "      <td>98048.410899</td>\n",
       "    </tr>\n",
       "    <tr>\n",
       "      <th>UTA</th>\n",
       "      <td>72902.344401</td>\n",
       "      <td>71359.217915</td>\n",
       "    </tr>\n",
       "    <tr>\n",
       "      <th>WAS</th>\n",
       "      <td>56736.254760</td>\n",
       "      <td>71304.724815</td>\n",
       "    </tr>\n",
       "  </tbody>\n",
       "</table>\n",
       "</div>"
      ],
      "text/plain": [
       "      predResponse  salaryPerPoints\n",
       "Tm                                 \n",
       "ATL  111190.911029     82161.714628\n",
       "BOS  141306.485322    128697.751812\n",
       "BRK   75550.512810    105940.332333\n",
       "CHI  135170.034316     68110.564707\n",
       "CHO   79454.619744     59398.011801\n",
       "CLE   75108.551060     56145.359769\n",
       "DAL   42660.434652     38472.442693\n",
       "DEN   94253.275057     44579.440924\n",
       "DET   68522.255274     55679.758438\n",
       "GSW   67673.919815     48551.328601\n",
       "HOU   79875.516353     54002.662308\n",
       "IND   43390.166414     33559.190579\n",
       "LAC   31117.642960     37253.295163\n",
       "LAL   56682.743974     64758.850506\n",
       "MEM   77387.885427     88289.459179\n",
       "MIA   93039.909569     70759.433724\n",
       "MIL   90757.431023     98131.250075\n",
       "MIN   48711.437948     25547.525693\n",
       "NOP   71780.440901     66693.136373\n",
       "NYK   60140.437404     54214.196601\n",
       "OKC  143471.491740    106609.242731\n",
       "ORL   83700.683551     84667.066166\n",
       "PHI  146445.080357     55449.079100\n",
       "PHO   51628.977101     56264.709744\n",
       "POR   82747.232134     72013.263844\n",
       "SAC  115510.483532     83963.114456\n",
       "SAS   56987.739637     45594.524702\n",
       "TOR  109377.189912     82272.228705\n",
       "TOT  139917.839404     98048.410899\n",
       "UTA   72902.344401     71359.217915\n",
       "WAS   56736.254760     71304.724815"
      ]
     },
     "execution_count": 16,
     "metadata": {},
     "output_type": "execute_result"
    }
   ],
   "source": [
    "teampoints = projectData.groupby(\"Tm\").sum()\n",
    "teampoints = teampoints[[\"predResponse\", \"salaryPerPoints\"]]\n",
    "teampoints"
   ]
  },
  {
   "cell_type": "code",
   "execution_count": 17,
   "metadata": {},
   "outputs": [
    {
     "name": "stdout",
     "output_type": "stream",
     "text": [
      "Best NBA Team's Total Points:  146445\n",
      "Our Selected Team's Total Points:  607680\n",
      "Total Salary Expended: 73775657.0\n"
     ]
    }
   ],
   "source": [
    "print(\"Best NBA Team's Total Points: \", int(max(teampoints[\"predResponse\"])))\n",
    "print(\"Our Selected Team's Total Points: \", int(sum(finalLineup[\"points\"])))\n",
    "\n",
    "print(\"Total Salary Expended:\", sum(finalLineup[\"salary\"]))"
   ]
  },
  {
   "cell_type": "code",
   "execution_count": 24,
   "metadata": {},
   "outputs": [
    {
     "name": "stdout",
     "output_type": "stream",
     "text": [
      "Mean PredResponse 10801.659450539037\n",
      "Our PredResponse 40512.01858813535\n",
      "Mean Points/$ Spent 8748.92651031055\n",
      "Mean Points/$ Spent 156.35294307676944\n"
     ]
    }
   ],
   "source": [
    "print(\"Mean PredResponse\", np.mean(projectData[\"predResponse\"]))\n",
    "print(\"Our PredResponse\", np.mean(finalLineup[\"points\"]))\n",
    "\n",
    "print(\"Mean Points/$ Spent\", np.mean(projectData[\"salaryPerPoints\"]))\n",
    "print(\"Mean Points/$ Spent\", np.mean(finalLineup[\"salary\"]/ finalLineup[\"points\"]))\n"
   ]
  },
  {
   "cell_type": "code",
   "execution_count": null,
   "metadata": {},
   "outputs": [],
   "source": []
  }
 ],
 "metadata": {
  "kernelspec": {
   "display_name": "Python 3",
   "language": "python",
   "name": "python3"
  },
  "language_info": {
   "codemirror_mode": {
    "name": "ipython",
    "version": 3
   },
   "file_extension": ".py",
   "mimetype": "text/x-python",
   "name": "python",
   "nbconvert_exporter": "python",
   "pygments_lexer": "ipython3",
   "version": "3.7.2"
  }
 },
 "nbformat": 4,
 "nbformat_minor": 2
}
